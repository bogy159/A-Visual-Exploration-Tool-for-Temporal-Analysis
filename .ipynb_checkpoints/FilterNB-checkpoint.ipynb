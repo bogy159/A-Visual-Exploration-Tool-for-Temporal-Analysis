{
 "cells": [
  {
   "cell_type": "code",
   "execution_count": 1,
   "metadata": {},
   "outputs": [],
   "source": [
    "import pandas as pd "
   ]
  },
  {
   "cell_type": "code",
   "execution_count": 46,
   "metadata": {},
   "outputs": [],
   "source": [
    "def main(ID, rating, dateLow, dateUp, toYear, weekDay, IDlist):\n",
    "    \n",
    "    result = readCSV('static/revSam.csv')\n",
    "    \n",
    "    if (ID!=''):\n",
    "        result = IDFilter(result, ID)\n",
    "    if (rating!=''):\n",
    "        result = ratingFilter(result, rating)\n",
    "    if (dateLow!=''):\n",
    "        result = dateLowFilter(result, dateLow)\n",
    "    if (dateUp!=''):\n",
    "        result = dateUpFilter(result, dateUp)\n",
    "    if (toYear!=''):\n",
    "        result = toYearFilter(result, toYear)\n",
    "    if (weekDay!=''):\n",
    "        result = weekDayFilter(result, weekDay)\n",
    "    if (IDlist!=''):\n",
    "        clusters = getIDlist(IDlist)\n",
    "        #print(clusters)\n",
    "        result = IDlistFilter(result, clusters)\n",
    "    \n",
    "    return result"
   ]
  },
  {
   "cell_type": "code",
   "execution_count": 15,
   "metadata": {},
   "outputs": [],
   "source": [
    "def readCSV(item):\n",
    "    data = pd.read_csv(item, dtype={0: int}, index_col=0, encoding='latin-1')\n",
    "    df = pd.DataFrame(data)\n",
    "    return df"
   ]
  },
  {
   "cell_type": "code",
   "execution_count": 4,
   "metadata": {},
   "outputs": [],
   "source": [
    "def IDFilter(result, item):\n",
    "    indexNames = result[result.business_id != item].index\n",
    "    result.drop(indexNames , inplace=True)\n",
    "    \n",
    "    return result"
   ]
  },
  {
   "cell_type": "code",
   "execution_count": 5,
   "metadata": {},
   "outputs": [],
   "source": [
    "def ratingFilter(result, item):\n",
    "    indexNames = result[result.stars != int(item)].index\n",
    "    result.drop(indexNames , inplace=True)\n",
    "    \n",
    "    return result"
   ]
  },
  {
   "cell_type": "code",
   "execution_count": 6,
   "metadata": {},
   "outputs": [],
   "source": [
    "def dateLowFilter(result, item):\n",
    "    indexNames = result[pd.to_datetime(result.date) < pd.to_datetime(item)].index\n",
    "    result.drop(indexNames , inplace=True)\n",
    "    \n",
    "    return result"
   ]
  },
  {
   "cell_type": "code",
   "execution_count": 7,
   "metadata": {},
   "outputs": [],
   "source": [
    "def dateUpFilter(result, item):\n",
    "    indexNames = result[pd.to_datetime(result.date) > pd.to_datetime(item)].index\n",
    "    result.drop(indexNames , inplace=True)\n",
    "    \n",
    "    return result"
   ]
  },
  {
   "cell_type": "code",
   "execution_count": 8,
   "metadata": {},
   "outputs": [],
   "source": [
    "def toYearFilter(result, item):\n",
    "    indexNames = result[pd.to_datetime(result.date).dt.month != int(item)+1].index\n",
    "    result.drop(indexNames , inplace=True)\n",
    "    \n",
    "    return result"
   ]
  },
  {
   "cell_type": "code",
   "execution_count": 9,
   "metadata": {},
   "outputs": [],
   "source": [
    "def weekDayFilter(result, item):\n",
    "    indexNames = result[pd.to_datetime(result.date).dt.dayofweek != int(item)].index\n",
    "    result.drop(indexNames , inplace=True)\n",
    "    \n",
    "    return result"
   ]
  },
  {
   "cell_type": "code",
   "execution_count": 56,
   "metadata": {},
   "outputs": [],
   "source": [
    "def getIDlist(item):\n",
    "    clustercheta2 = readCSV('static/revClust.csv')\n",
    "\n",
    "    clustercheta2 = clustercheta2.loc[:,['business_id', 'Cluster']]\n",
    "    clustercheta2.set_index('business_id', inplace = True)\n",
    "    clustercheta2 = clustercheta2.loc[~clustercheta2.index.duplicated(keep='first')] \n",
    "    clustercheta2.reset_index(inplace = True)\n",
    "\n",
    "    indexNames = clustercheta2[clustercheta2.Cluster != int(item)].index\n",
    "    clustercheta2.drop(indexNames , inplace=True)\n",
    "    return clustercheta2.business_id"
   ]
  },
  {
   "cell_type": "code",
   "execution_count": 45,
   "metadata": {},
   "outputs": [],
   "source": [
    "def IDlistFilter(result, item):\n",
    "    \n",
    "    result = result[result['business_id'].isin(item)]\n",
    "    \n",
    "    return result"
   ]
  },
  {
   "cell_type": "code",
   "execution_count": 69,
   "metadata": {},
   "outputs": [
    {
     "name": "stdout",
     "output_type": "stream",
     "text": [
      "24    3kdSl5mo9dWC4clrQjEDGg\n",
      "Name: business_id, dtype: object\n",
      "tuk sme!\n",
      "vleze\n"
     ]
    },
    {
     "data": {
      "text/html": [
       "<div>\n",
       "<style scoped>\n",
       "    .dataframe tbody tr th:only-of-type {\n",
       "        vertical-align: middle;\n",
       "    }\n",
       "\n",
       "    .dataframe tbody tr th {\n",
       "        vertical-align: top;\n",
       "    }\n",
       "\n",
       "    .dataframe thead th {\n",
       "        text-align: right;\n",
       "    }\n",
       "</style>\n",
       "<table border=\"1\" class=\"dataframe\">\n",
       "  <thead>\n",
       "    <tr style=\"text-align: right;\">\n",
       "      <th></th>\n",
       "      <th>business_id</th>\n",
       "      <th>stars</th>\n",
       "      <th>date</th>\n",
       "      <th>text</th>\n",
       "      <th>name</th>\n",
       "      <th>ccur</th>\n",
       "    </tr>\n",
       "    <tr>\n",
       "      <th>index</th>\n",
       "      <th></th>\n",
       "      <th></th>\n",
       "      <th></th>\n",
       "      <th></th>\n",
       "      <th></th>\n",
       "      <th></th>\n",
       "    </tr>\n",
       "  </thead>\n",
       "  <tbody>\n",
       "  </tbody>\n",
       "</table>\n",
       "</div>"
      ],
      "text/plain": [
       "Empty DataFrame\n",
       "Columns: [business_id, stars, date, text, name, ccur]\n",
       "Index: []"
      ]
     },
     "execution_count": 69,
     "metadata": {},
     "output_type": "execute_result"
    }
   ],
   "source": [
    "check = main(\"3kdSl5mo9dWC4clrQjEDGg\" , \"1\", \"2016-1-1\", \"2016-12-31\", \"1\", \"6\", \"4\")\n",
    "if (check.empty):\n",
    "    print(\"vleze\")\n",
    "    check\n",
    "check"
   ]
  },
  {
   "cell_type": "code",
   "execution_count": 55,
   "metadata": {},
   "outputs": [
    {
     "data": {
      "text/plain": [
       "12    g8OnV26ywJlZpezdBnOWUQ\n",
       "13    El4FC8jcawUVgw_0EIcbaQ\n",
       "21    XXW_OFaYQkkGOGniujZFHg\n",
       "22    yfxDa8RFOvJPQh0rNtakHA\n",
       "28    faPVqws-x-5k2CQKDNtHxw\n",
       "Name: business_id, dtype: object"
      ]
     },
     "execution_count": 55,
     "metadata": {},
     "output_type": "execute_result"
    }
   ],
   "source": [
    "clustercheta2 = readCSV('static/revClust.csv')\n",
    "\n",
    "clustercheta2 = clustercheta2.loc[:,['business_id', 'Cluster']]\n",
    "clustercheta2.set_index('business_id', inplace = True)\n",
    "clustercheta2 = clustercheta2.loc[~clustercheta2.index.duplicated(keep='first')] \n",
    "clustercheta2.reset_index(inplace = True)\n",
    "\n",
    "indexNames = clustercheta2[clustercheta2.Cluster != int(\"8\")].index\n",
    "clustercheta2.drop(indexNames , inplace=True)\n",
    "clustercheta2.business_id"
   ]
  },
  {
   "cell_type": "code",
   "execution_count": null,
   "metadata": {},
   "outputs": [],
   "source": []
  }
 ],
 "metadata": {
  "kernelspec": {
   "display_name": "Python 3",
   "language": "python",
   "name": "python3"
  },
  "language_info": {
   "codemirror_mode": {
    "name": "ipython",
    "version": 3
   },
   "file_extension": ".py",
   "mimetype": "text/x-python",
   "name": "python",
   "nbconvert_exporter": "python",
   "pygments_lexer": "ipython3",
   "version": "3.6.9"
  }
 },
 "nbformat": 4,
 "nbformat_minor": 2
}
