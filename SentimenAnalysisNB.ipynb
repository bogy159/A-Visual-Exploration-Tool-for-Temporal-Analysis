{
 "cells": [
  {
   "cell_type": "code",
   "execution_count": 89,
   "metadata": {},
   "outputs": [],
   "source": [
    "from textblob import TextBlob\n",
    "import pandas as pd\n",
    "\n",
    "import Filter as fil\n",
    "\n",
    "\n",
    "import time"
   ]
  },
  {
   "cell_type": "code",
   "execution_count": 103,
   "metadata": {},
   "outputs": [],
   "source": [
    "def main(item, polarity):\n",
    "    t0 = time.time()\n",
    "    item['polarity'] = item.text.apply(detect_polarity)\n",
    "    \n",
    "    t1 = time.time()\n",
    "    print(\"TextBlob: \" + str(t1- t0))\n",
    "    \n",
    "    if (polarity == \"0\"):\n",
    "        negative = item.loc[item['polarity']==\"Negative\"]\n",
    "        return negative.drop(columns=\"polarity\")\n",
    "    if (polarity == \"1\"):\n",
    "        neutral = item.loc[item['polarity']==\"Neutral\"]\n",
    "        return neutral.drop(columns=\"polarity\")\n",
    "    if (polarity == \"2\"):\n",
    "        positive = item.loc[item['polarity'] == \"Positive\"]\n",
    "        return positive.drop(columns=\"polarity\")\n",
    "    \n",
    "    return negative, neutral, positive "
   ]
  },
  {
   "cell_type": "code",
   "execution_count": 49,
   "metadata": {},
   "outputs": [],
   "source": [
    "def detect_polarity(text):\n",
    "    value = TextBlob(text).sentiment.polarity\n",
    "    if value > 0.3:\n",
    "        return \"Positive\"\n",
    "    elif value < -0.3:\n",
    "        return \"Negative\"\n",
    "    else:\n",
    "        return \"Neutral\""
   ]
  },
  {
   "cell_type": "code",
   "execution_count": 104,
   "metadata": {},
   "outputs": [
    {
     "name": "stdout",
     "output_type": "stream",
     "text": [
      "Filter: 0.9145538806915283\n",
      "TextBlob: 1.0133237838745117\n",
      "Polarity: 1.0152850151062012\n",
      "Obshto: 1.9298388957977295\n"
     ]
    }
   ],
   "source": [
    "t0 = time.time()\n",
    "filtered = fil.main(\"4JNXUYY8wbaaDmk3BPzlWw\", \"\", \"2015-1-1\", \"2015-12-31\", \"\", \"\", \"\").head(1000)\n",
    "t1 = time.time()\n",
    "print(\"Filter: \" + str(t1- t0))\n",
    "neshto = main(filtered, \"1\")\n",
    "neshto\n",
    "t2 = time.time()\n",
    "print(\"Polarity: \" + str(t2- t1))\n",
    "print(\"Obshto: \" + str(t2- t0))"
   ]
  },
  {
   "cell_type": "code",
   "execution_count": 84,
   "metadata": {},
   "outputs": [],
   "source": [
    "neshto = main(filtered)"
   ]
  },
  {
   "cell_type": "code",
   "execution_count": 87,
   "metadata": {},
   "outputs": [
    {
     "data": {
      "text/html": [
       "<div>\n",
       "<style scoped>\n",
       "    .dataframe tbody tr th:only-of-type {\n",
       "        vertical-align: middle;\n",
       "    }\n",
       "\n",
       "    .dataframe tbody tr th {\n",
       "        vertical-align: top;\n",
       "    }\n",
       "\n",
       "    .dataframe thead th {\n",
       "        text-align: right;\n",
       "    }\n",
       "</style>\n",
       "<table border=\"1\" class=\"dataframe\">\n",
       "  <thead>\n",
       "    <tr style=\"text-align: right;\">\n",
       "      <th></th>\n",
       "      <th>business_id</th>\n",
       "      <th>stars</th>\n",
       "      <th>date</th>\n",
       "      <th>text</th>\n",
       "      <th>name</th>\n",
       "      <th>postal_code</th>\n",
       "      <th>ccur</th>\n",
       "    </tr>\n",
       "    <tr>\n",
       "      <th>index</th>\n",
       "      <th></th>\n",
       "      <th></th>\n",
       "      <th></th>\n",
       "      <th></th>\n",
       "      <th></th>\n",
       "      <th></th>\n",
       "      <th></th>\n",
       "    </tr>\n",
       "  </thead>\n",
       "  <tbody>\n",
       "    <tr>\n",
       "      <td>444687</td>\n",
       "      <td>4JNXUYY8wbaaDmk3BPzlWw</td>\n",
       "      <td>1</td>\n",
       "      <td>2015-12-27</td>\n",
       "      <td>This is the most horrible restaurant in the st...</td>\n",
       "      <td>\"Mon Ami Gabi\"</td>\n",
       "      <td>89109</td>\n",
       "      <td>7328</td>\n",
       "    </tr>\n",
       "    <tr>\n",
       "      <td>442020</td>\n",
       "      <td>4JNXUYY8wbaaDmk3BPzlWw</td>\n",
       "      <td>3</td>\n",
       "      <td>2015-05-19</td>\n",
       "      <td>Would give 5 stars if waitress wouldn't have a...</td>\n",
       "      <td>\"Mon Ami Gabi\"</td>\n",
       "      <td>89109</td>\n",
       "      <td>7328</td>\n",
       "    </tr>\n",
       "    <tr>\n",
       "      <td>442070</td>\n",
       "      <td>4JNXUYY8wbaaDmk3BPzlWw</td>\n",
       "      <td>5</td>\n",
       "      <td>2015-07-10</td>\n",
       "      <td>Do the patio and the bloody Mary bar.</td>\n",
       "      <td>\"Mon Ami Gabi\"</td>\n",
       "      <td>89109</td>\n",
       "      <td>7328</td>\n",
       "    </tr>\n",
       "    <tr>\n",
       "      <td>440571</td>\n",
       "      <td>4JNXUYY8wbaaDmk3BPzlWw</td>\n",
       "      <td>1</td>\n",
       "      <td>2015-01-31</td>\n",
       "      <td>Not a go to for breakfast - pick somewhere els...</td>\n",
       "      <td>\"Mon Ami Gabi\"</td>\n",
       "      <td>89109</td>\n",
       "      <td>7328</td>\n",
       "    </tr>\n",
       "    <tr>\n",
       "      <td>441123</td>\n",
       "      <td>4JNXUYY8wbaaDmk3BPzlWw</td>\n",
       "      <td>5</td>\n",
       "      <td>2015-05-05</td>\n",
       "      <td>Some of freshest oyster in the continental US ...</td>\n",
       "      <td>\"Mon Ami Gabi\"</td>\n",
       "      <td>89109</td>\n",
       "      <td>7328</td>\n",
       "    </tr>\n",
       "    <tr>\n",
       "      <td>443612</td>\n",
       "      <td>4JNXUYY8wbaaDmk3BPzlWw</td>\n",
       "      <td>1</td>\n",
       "      <td>2015-03-12</td>\n",
       "      <td>The filet in the beef Wellington was totally t...</td>\n",
       "      <td>\"Mon Ami Gabi\"</td>\n",
       "      <td>89109</td>\n",
       "      <td>7328</td>\n",
       "    </tr>\n",
       "    <tr>\n",
       "      <td>445167</td>\n",
       "      <td>4JNXUYY8wbaaDmk3BPzlWw</td>\n",
       "      <td>1</td>\n",
       "      <td>2015-03-18</td>\n",
       "      <td>If you like bad customer service that everybod...</td>\n",
       "      <td>\"Mon Ami Gabi\"</td>\n",
       "      <td>89109</td>\n",
       "      <td>7328</td>\n",
       "    </tr>\n",
       "    <tr>\n",
       "      <td>445968</td>\n",
       "      <td>4JNXUYY8wbaaDmk3BPzlWw</td>\n",
       "      <td>1</td>\n",
       "      <td>2015-06-27</td>\n",
       "      <td>Fast food for French cuisine, and we know how ...</td>\n",
       "      <td>\"Mon Ami Gabi\"</td>\n",
       "      <td>89109</td>\n",
       "      <td>7328</td>\n",
       "    </tr>\n",
       "  </tbody>\n",
       "</table>\n",
       "</div>"
      ],
      "text/plain": [
       "                   business_id  stars        date  \\\n",
       "index                                               \n",
       "444687  4JNXUYY8wbaaDmk3BPzlWw      1  2015-12-27   \n",
       "442020  4JNXUYY8wbaaDmk3BPzlWw      3  2015-05-19   \n",
       "442070  4JNXUYY8wbaaDmk3BPzlWw      5  2015-07-10   \n",
       "440571  4JNXUYY8wbaaDmk3BPzlWw      1  2015-01-31   \n",
       "441123  4JNXUYY8wbaaDmk3BPzlWw      5  2015-05-05   \n",
       "443612  4JNXUYY8wbaaDmk3BPzlWw      1  2015-03-12   \n",
       "445167  4JNXUYY8wbaaDmk3BPzlWw      1  2015-03-18   \n",
       "445968  4JNXUYY8wbaaDmk3BPzlWw      1  2015-06-27   \n",
       "\n",
       "                                                     text            name  \\\n",
       "index                                                                       \n",
       "444687  This is the most horrible restaurant in the st...  \"Mon Ami Gabi\"   \n",
       "442020  Would give 5 stars if waitress wouldn't have a...  \"Mon Ami Gabi\"   \n",
       "442070              Do the patio and the bloody Mary bar.  \"Mon Ami Gabi\"   \n",
       "440571  Not a go to for breakfast - pick somewhere els...  \"Mon Ami Gabi\"   \n",
       "441123  Some of freshest oyster in the continental US ...  \"Mon Ami Gabi\"   \n",
       "443612  The filet in the beef Wellington was totally t...  \"Mon Ami Gabi\"   \n",
       "445167  If you like bad customer service that everybod...  \"Mon Ami Gabi\"   \n",
       "445968  Fast food for French cuisine, and we know how ...  \"Mon Ami Gabi\"   \n",
       "\n",
       "        postal_code  ccur  \n",
       "index                      \n",
       "444687        89109  7328  \n",
       "442020        89109  7328  \n",
       "442070        89109  7328  \n",
       "440571        89109  7328  \n",
       "441123        89109  7328  \n",
       "443612        89109  7328  \n",
       "445167        89109  7328  \n",
       "445968        89109  7328  "
      ]
     },
     "execution_count": 87,
     "metadata": {},
     "output_type": "execute_result"
    }
   ],
   "source": [
    "neshto[0]"
   ]
  },
  {
   "cell_type": "code",
   "execution_count": 115,
   "metadata": {},
   "outputs": [
    {
     "data": {
      "text/plain": [
       "WordList(['text', 'beautiful creatures', 'lovely animals', 'computational dynamics', 'crazy folk stories', 'interwined', 'great room service', 'costumers', 'sweet pork'])"
      ]
     },
     "execution_count": 115,
     "metadata": {},
     "output_type": "execute_result"
    }
   ],
   "source": [
    "TextBlob(\"Text consisits of beautiful creatures, lovely animals, computational dynamics and crazy folk stories. Interwined with vividly intriguing views and great room service. Costumers are realtively sattisfied and sweet pork is deliciously rare.\").noun_phrases"
   ]
  },
  {
   "cell_type": "code",
   "execution_count": 116,
   "metadata": {},
   "outputs": [
    {
     "data": {
      "text/plain": [
       "WordList(['text'])"
      ]
     },
     "execution_count": 116,
     "metadata": {},
     "output_type": "execute_result"
    }
   ],
   "source": [
    "TextBlob(\"Text.\").noun_phrases"
   ]
  },
  {
   "cell_type": "code",
   "execution_count": null,
   "metadata": {},
   "outputs": [],
   "source": []
  }
 ],
 "metadata": {
  "kernelspec": {
   "display_name": "Python 3",
   "language": "python",
   "name": "python3"
  },
  "language_info": {
   "codemirror_mode": {
    "name": "ipython",
    "version": 3
   },
   "file_extension": ".py",
   "mimetype": "text/x-python",
   "name": "python",
   "nbconvert_exporter": "python",
   "pygments_lexer": "ipython3",
   "version": "3.6.9"
  }
 },
 "nbformat": 4,
 "nbformat_minor": 2
}
