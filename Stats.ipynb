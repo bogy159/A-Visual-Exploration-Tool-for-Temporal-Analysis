{
 "cells": [
  {
   "cell_type": "code",
   "execution_count": 1,
   "metadata": {},
   "outputs": [],
   "source": [
    "import matplotlib.pyplot as plt\n",
    "import pandas as pd\n",
    "import numpy as np\n",
    "from scipy import stats\n",
    "import time\n",
    "import timeit\n",
    "\n",
    "from pymongo import MongoClient\n",
    "\n",
    "import Filter2 as fil2"
   ]
  },
  {
   "cell_type": "code",
   "execution_count": 26,
   "metadata": {},
   "outputs": [
    {
     "data": {
      "image/png": "[encoded data removed]",
      "text/plain": [
       "<Figure size 432x288 with 1 Axes>"
      ]
     },
     "metadata": {
      "needs_background": "light"
     },
     "output_type": "display_data"
    }
   ],
   "source": [
    "plt.plot([1, 10, 100, 1000, 10000, 50000, 100000, 107401, 3346025], [0.000996, 0.001990795, 0.0085, 0.074908018, 0.687192678, 3.57846379, 6.846399, 8.319787, 219], 'ro')\n",
    "plt.ylabel('Seconds')\n",
    "plt.xlabel('Number of Items')\n",
    "plt.suptitle('Tokens time')\n",
    "plt.show()"
   ]
  },
  {
   "cell_type": "code",
   "execution_count": 2,
   "metadata": {},
   "outputs": [
    {
     "data": {
      "image/png": "[encoded data removed]",
      "text/plain": [
       "<Figure size 432x288 with 1 Axes>"
      ]
     },
     "metadata": {
      "needs_background": "light"
     },
     "output_type": "display_data"
    }
   ],
   "source": [
    "plt.plot([1, 10, 1000, 10000, 50000, 100000, 107401], [0.000996828, 0.001990795, 0.074908018, 0.687192678, 3.57846379, 6.846399, 8.319787], 'ro')\n",
    "plt.plot([1, 10, 1000, 10000, 50000, 100000, 107401], [0.00396828, 0.00698828697, 0.2562823, 2.45248556, 11.957, 26.0, 28.867], 'bo')\n",
    "#plt.plot([1, 10, 1000, 10000, 50000, 100000, 107401], [0.000996, 0.001990795, 0.074908018, 0.687192678, 3.57846379, 6.846399, 8.319787], 'go')\n",
    "plt.ylabel('Time in seconds')\n",
    "plt.xlabel('Number of items')\n",
    "#plt.suptitle('Reds are tokens and blues are lemmas')\n",
    "plt.savefig('Time_to_calculate_tokens_and_lemmas.png')\n",
    "plt.show()"
   ]
  },
  {
   "cell_type": "code",
   "execution_count": 48,
   "metadata": {},
   "outputs": [
    {
     "data": {
      "image/png": "[encoded data removed]",
      "text/plain": [
       "<Figure size 432x288 with 1 Axes>"
      ]
     },
     "metadata": {
      "needs_background": "light"
     },
     "output_type": "display_data"
    }
   ],
   "source": [
    "#plt.plot([1, 10, 1000, 10000, 50000, 100000, 107401], [0.000996828, 0.001990795, 0.074908018, 0.687192678, 3.57846379, 6.846399, 8.319787], 'ro')\n",
    "#plt.plot([1, 10, 1000, 10000, 50000, 100000, 107401], [0.00396828, 0.00698828697, 0.2562823, 2.45248556, 11.957, 26.0, 28.867], 'bo')\n",
    "plt.plot([1, 10], [0.51562, 5.26698], 'go')\n",
    "plt.ylabel('Seconds')\n",
    "plt.xlabel('Number of Items')\n",
    "plt.suptitle('Red tokens and Blue lemmas')\n",
    "plt.show()"
   ]
  },
  {
   "cell_type": "code",
   "execution_count": 6,
   "metadata": {},
   "outputs": [],
   "source": [
    "def readCSV(item):\n",
    "    data = pd.read_csv(item, dtype={0: str}, index_col=0, encoding='latin-1')\n",
    "    df = pd.DataFrame(data)\n",
    "    return df"
   ]
  },
  {
   "cell_type": "code",
   "execution_count": 7,
   "metadata": {},
   "outputs": [],
   "source": [
    "reviews = readCSV('yelp_review.csv')"
   ]
  },
  {
   "cell_type": "code",
   "execution_count": 8,
   "metadata": {},
   "outputs": [
    {
     "data": {
      "text/html": [
       "<div>\n",
       "<style scoped>\n",
       "    .dataframe tbody tr th:only-of-type {\n",
       "        vertical-align: middle;\n",
       "    }\n",
       "\n",
       "    .dataframe tbody tr th {\n",
       "        vertical-align: top;\n",
       "    }\n",
       "\n",
       "    .dataframe thead th {\n",
       "        text-align: right;\n",
       "    }\n",
       "</style>\n",
       "<table border=\"1\" class=\"dataframe\">\n",
       "  <thead>\n",
       "    <tr style=\"text-align: right;\">\n",
       "      <th></th>\n",
       "      <th>user_id</th>\n",
       "      <th>business_id</th>\n",
       "      <th>stars</th>\n",
       "      <th>date</th>\n",
       "      <th>text</th>\n",
       "      <th>useful</th>\n",
       "      <th>funny</th>\n",
       "      <th>cool</th>\n",
       "    </tr>\n",
       "    <tr>\n",
       "      <th>review_id</th>\n",
       "      <th></th>\n",
       "      <th></th>\n",
       "      <th></th>\n",
       "      <th></th>\n",
       "      <th></th>\n",
       "      <th></th>\n",
       "      <th></th>\n",
       "      <th></th>\n",
       "    </tr>\n",
       "  </thead>\n",
       "  <tbody>\n",
       "    <tr>\n",
       "      <td>vkVSCC7xljjrAI4UGfnKEQ</td>\n",
       "      <td>bv2nCi5Qv5vroFiqKGopiw</td>\n",
       "      <td>AEx2SYEUJmTxVVB18LlCwA</td>\n",
       "      <td>5</td>\n",
       "      <td>2016-05-28</td>\n",
       "      <td>Super simple place but amazing nonetheless. It...</td>\n",
       "      <td>0</td>\n",
       "      <td>0</td>\n",
       "      <td>0</td>\n",
       "    </tr>\n",
       "    <tr>\n",
       "      <td>n6QzIUObkYshz4dz2QRJTw</td>\n",
       "      <td>bv2nCi5Qv5vroFiqKGopiw</td>\n",
       "      <td>VR6GpWIda3SfvPC-lg9H3w</td>\n",
       "      <td>5</td>\n",
       "      <td>2016-05-28</td>\n",
       "      <td>Small unassuming place that changes their menu...</td>\n",
       "      <td>0</td>\n",
       "      <td>0</td>\n",
       "      <td>0</td>\n",
       "    </tr>\n",
       "    <tr>\n",
       "      <td>MV3CcKScW05u5LVfF6ok0g</td>\n",
       "      <td>bv2nCi5Qv5vroFiqKGopiw</td>\n",
       "      <td>CKC0-MOWMqoeWf6s-szl8g</td>\n",
       "      <td>5</td>\n",
       "      <td>2016-05-28</td>\n",
       "      <td>Lester's is located in a beautiful neighborhoo...</td>\n",
       "      <td>0</td>\n",
       "      <td>0</td>\n",
       "      <td>0</td>\n",
       "    </tr>\n",
       "    <tr>\n",
       "      <td>IXvOzsEMYtiJI0CARmj77Q</td>\n",
       "      <td>bv2nCi5Qv5vroFiqKGopiw</td>\n",
       "      <td>ACFtxLv8pGrrxMm6EgjreA</td>\n",
       "      <td>4</td>\n",
       "      <td>2016-05-28</td>\n",
       "      <td>Love coming here. Yes the place always needs t...</td>\n",
       "      <td>0</td>\n",
       "      <td>0</td>\n",
       "      <td>0</td>\n",
       "    </tr>\n",
       "    <tr>\n",
       "      <td>L_9BTb55X0GDtThi6GlZ6w</td>\n",
       "      <td>bv2nCi5Qv5vroFiqKGopiw</td>\n",
       "      <td>s2I_Ni76bjJNK9yG60iD-Q</td>\n",
       "      <td>4</td>\n",
       "      <td>2016-05-28</td>\n",
       "      <td>Had their chocolate almond croissant and it wa...</td>\n",
       "      <td>0</td>\n",
       "      <td>0</td>\n",
       "      <td>0</td>\n",
       "    </tr>\n",
       "    <tr>\n",
       "      <td>...</td>\n",
       "      <td>...</td>\n",
       "      <td>...</td>\n",
       "      <td>...</td>\n",
       "      <td>...</td>\n",
       "      <td>...</td>\n",
       "      <td>...</td>\n",
       "      <td>...</td>\n",
       "      <td>...</td>\n",
       "    </tr>\n",
       "    <tr>\n",
       "      <td>PoGSiNz1X5SUu0qEt-qM5w</td>\n",
       "      <td>mPjPyipaD0C_myqWqDipZg</td>\n",
       "      <td>Ngk84Ax1tXgpoJFEGxot3w</td>\n",
       "      <td>1</td>\n",
       "      <td>2011-11-21</td>\n",
       "      <td>Bought groupon $39 for 4 months from groupon, ...</td>\n",
       "      <td>36</td>\n",
       "      <td>3</td>\n",
       "      <td>3</td>\n",
       "    </tr>\n",
       "    <tr>\n",
       "      <td>-CJNPrDWgIkorx4iEZJXIg</td>\n",
       "      <td>mPjPyipaD0C_myqWqDipZg</td>\n",
       "      <td>pOEL97ld-FJMKO8Ki8JmYg</td>\n",
       "      <td>3</td>\n",
       "      <td>2016-04-30</td>\n",
       "      <td>Spring rolls was pretty good, cod was a bit ra...</td>\n",
       "      <td>0</td>\n",
       "      <td>0</td>\n",
       "      <td>0</td>\n",
       "    </tr>\n",
       "    <tr>\n",
       "      <td>W9eVvOcpBvG6lpJPoJOxuA</td>\n",
       "      <td>mPjPyipaD0C_myqWqDipZg</td>\n",
       "      <td>5ubokMNw8qfbX2WtxgJG1Q</td>\n",
       "      <td>4</td>\n",
       "      <td>2011-10-23</td>\n",
       "      <td>Had a 8 dish set meal, was enough for 10 peopl...</td>\n",
       "      <td>3</td>\n",
       "      <td>0</td>\n",
       "      <td>1</td>\n",
       "    </tr>\n",
       "    <tr>\n",
       "      <td>hqQ1UTFKMN2P1ezUow48OQ</td>\n",
       "      <td>mPjPyipaD0C_myqWqDipZg</td>\n",
       "      <td>EO3i5kTUG7_S2OIQ23sdSA</td>\n",
       "      <td>3</td>\n",
       "      <td>2011-11-07</td>\n",
       "      <td>A small, cozy family run Authentic korean rest...</td>\n",
       "      <td>2</td>\n",
       "      <td>0</td>\n",
       "      <td>0</td>\n",
       "    </tr>\n",
       "    <tr>\n",
       "      <td>ldsIs3sGXPJ7WM7VyAm4lQ</td>\n",
       "      <td>mPjPyipaD0C_myqWqDipZg</td>\n",
       "      <td>HloEEXm_QzEpycuwA_RtQA</td>\n",
       "      <td>3</td>\n",
       "      <td>2011-11-15</td>\n",
       "      <td>Really nice atmosphere and settings and very c...</td>\n",
       "      <td>0</td>\n",
       "      <td>1</td>\n",
       "      <td>1</td>\n",
       "    </tr>\n",
       "  </tbody>\n",
       "</table>\n",
       "<p>5261668 rows × 8 columns</p>\n",
       "</div>"
      ],
      "text/plain": [
       "                                       user_id             business_id  stars  \\\n",
       "review_id                                                                       \n",
       "vkVSCC7xljjrAI4UGfnKEQ  bv2nCi5Qv5vroFiqKGopiw  AEx2SYEUJmTxVVB18LlCwA      5   \n",
       "n6QzIUObkYshz4dz2QRJTw  bv2nCi5Qv5vroFiqKGopiw  VR6GpWIda3SfvPC-lg9H3w      5   \n",
       "MV3CcKScW05u5LVfF6ok0g  bv2nCi5Qv5vroFiqKGopiw  CKC0-MOWMqoeWf6s-szl8g      5   \n",
       "IXvOzsEMYtiJI0CARmj77Q  bv2nCi5Qv5vroFiqKGopiw  ACFtxLv8pGrrxMm6EgjreA      4   \n",
       "L_9BTb55X0GDtThi6GlZ6w  bv2nCi5Qv5vroFiqKGopiw  s2I_Ni76bjJNK9yG60iD-Q      4   \n",
       "...                                        ...                     ...    ...   \n",
       "PoGSiNz1X5SUu0qEt-qM5w  mPjPyipaD0C_myqWqDipZg  Ngk84Ax1tXgpoJFEGxot3w      1   \n",
       "-CJNPrDWgIkorx4iEZJXIg  mPjPyipaD0C_myqWqDipZg  pOEL97ld-FJMKO8Ki8JmYg      3   \n",
       "W9eVvOcpBvG6lpJPoJOxuA  mPjPyipaD0C_myqWqDipZg  5ubokMNw8qfbX2WtxgJG1Q      4   \n",
       "hqQ1UTFKMN2P1ezUow48OQ  mPjPyipaD0C_myqWqDipZg  EO3i5kTUG7_S2OIQ23sdSA      3   \n",
       "ldsIs3sGXPJ7WM7VyAm4lQ  mPjPyipaD0C_myqWqDipZg  HloEEXm_QzEpycuwA_RtQA      3   \n",
       "\n",
       "                              date  \\\n",
       "review_id                            \n",
       "vkVSCC7xljjrAI4UGfnKEQ  2016-05-28   \n",
       "n6QzIUObkYshz4dz2QRJTw  2016-05-28   \n",
       "MV3CcKScW05u5LVfF6ok0g  2016-05-28   \n",
       "IXvOzsEMYtiJI0CARmj77Q  2016-05-28   \n",
       "L_9BTb55X0GDtThi6GlZ6w  2016-05-28   \n",
       "...                            ...   \n",
       "PoGSiNz1X5SUu0qEt-qM5w  2011-11-21   \n",
       "-CJNPrDWgIkorx4iEZJXIg  2016-04-30   \n",
       "W9eVvOcpBvG6lpJPoJOxuA  2011-10-23   \n",
       "hqQ1UTFKMN2P1ezUow48OQ  2011-11-07   \n",
       "ldsIs3sGXPJ7WM7VyAm4lQ  2011-11-15   \n",
       "\n",
       "                                                                     text  \\\n",
       "review_id                                                                   \n",
       "vkVSCC7xljjrAI4UGfnKEQ  Super simple place but amazing nonetheless. It...   \n",
       "n6QzIUObkYshz4dz2QRJTw  Small unassuming place that changes their menu...   \n",
       "MV3CcKScW05u5LVfF6ok0g  Lester's is located in a beautiful neighborhoo...   \n",
       "IXvOzsEMYtiJI0CARmj77Q  Love coming here. Yes the place always needs t...   \n",
       "L_9BTb55X0GDtThi6GlZ6w  Had their chocolate almond croissant and it wa...   \n",
       "...                                                                   ...   \n",
       "PoGSiNz1X5SUu0qEt-qM5w  Bought groupon $39 for 4 months from groupon, ...   \n",
       "-CJNPrDWgIkorx4iEZJXIg  Spring rolls was pretty good, cod was a bit ra...   \n",
       "W9eVvOcpBvG6lpJPoJOxuA  Had a 8 dish set meal, was enough for 10 peopl...   \n",
       "hqQ1UTFKMN2P1ezUow48OQ  A small, cozy family run Authentic korean rest...   \n",
       "ldsIs3sGXPJ7WM7VyAm4lQ  Really nice atmosphere and settings and very c...   \n",
       "\n",
       "                        useful  funny  cool  \n",
       "review_id                                    \n",
       "vkVSCC7xljjrAI4UGfnKEQ       0      0     0  \n",
       "n6QzIUObkYshz4dz2QRJTw       0      0     0  \n",
       "MV3CcKScW05u5LVfF6ok0g       0      0     0  \n",
       "IXvOzsEMYtiJI0CARmj77Q       0      0     0  \n",
       "L_9BTb55X0GDtThi6GlZ6w       0      0     0  \n",
       "...                        ...    ...   ...  \n",
       "PoGSiNz1X5SUu0qEt-qM5w      36      3     3  \n",
       "-CJNPrDWgIkorx4iEZJXIg       0      0     0  \n",
       "W9eVvOcpBvG6lpJPoJOxuA       3      0     1  \n",
       "hqQ1UTFKMN2P1ezUow48OQ       2      0     0  \n",
       "ldsIs3sGXPJ7WM7VyAm4lQ       0      1     1  \n",
       "\n",
       "[5261668 rows x 8 columns]"
      ]
     },
     "execution_count": 8,
     "metadata": {},
     "output_type": "execute_result"
    }
   ],
   "source": [
    "reviews"
   ]
  },
  {
   "cell_type": "code",
   "execution_count": 4,
   "metadata": {},
   "outputs": [
    {
     "name": "stdout",
     "output_type": "stream",
     "text": [
      "WilcoxonResult(statistic=8.5, pvalue=0.17856536396442713)\n"
     ]
    },
    {
     "name": "stderr",
     "output_type": "stream",
     "text": [
      "C:\\Users\\Bogy\\Anaconda3\\envs\\Envir. Python 3.6\\lib\\site-packages\\scipy\\stats\\morestats.py:2863: UserWarning: Sample size too small for normal approximation.\n",
      "  warnings.warn(\"Sample size too small for normal approximation.\")\n"
     ]
    },
    {
     "data": {
      "image/png": "[encoded data removed]",
      "text/plain": [
       "<Figure size 432x288 with 1 Axes>"
      ]
     },
     "metadata": {
      "needs_background": "light"
     },
     "output_type": "display_data"
    }
   ],
   "source": [
    "value1 = [4,4,6,3,7,9,5,9,8]\n",
    "value2 = [3,8,7,4,3,3,5,3,2]\n",
    "\n",
    "print(stats.wilcoxon(value1, value2))\n",
    " \n",
    "# figure related code\n",
    "fig = plt.figure()\n",
    "fig.suptitle('Restaurant selections', fontsize=12)\n",
    "    \n",
    "box_plot_data=[value1,value2]\n",
    "box = plt.boxplot(box_plot_data,patch_artist=True,labels=['Review Watcher','Sample Tool'])\n",
    "\n",
    "colors = ['blue', 'yellow']\n",
    "for patch, color in zip(box['boxes'], colors):\n",
    "    patch.set_facecolor(color)    \n",
    "\n",
    "plt.savefig('Restaurant_selections.png')\n",
    "plt.show()"
   ]
  },
  {
   "cell_type": "code",
   "execution_count": 21,
   "metadata": {},
   "outputs": [
    {
     "name": "stdout",
     "output_type": "stream",
     "text": [
      "WilcoxonResult(statistic=3.0, pvalue=0.03569190011680441)\n"
     ]
    },
    {
     "name": "stderr",
     "output_type": "stream",
     "text": [
      "C:\\Users\\Bogy\\Anaconda3\\envs\\Envir. Python 3.6\\lib\\site-packages\\scipy\\stats\\morestats.py:2863: UserWarning: Sample size too small for normal approximation.\n",
      "  warnings.warn(\"Sample size too small for normal approximation.\")\n"
     ]
    },
    {
     "data": {
      "image/png": "[encoded data removed]",
      "text/plain": [
       "<Figure size 432x288 with 1 Axes>"
      ]
     },
     "metadata": {
      "needs_background": "light"
     },
     "output_type": "display_data"
    }
   ],
   "source": [
    "value1 = [4,4,6,3,7,9,5,9,8]\n",
    "value2 = [3,8,7,4,3,3,5,3,2]\n",
    "value1 = [a/b for a,b in zip(value1,[30,27,28,38,31,33,36,33,44])]\n",
    "value2 = [a/b for a,b in zip(value2,[15,18,18,13,17,9,14,14,11])]\n",
    "\n",
    "print(stats.wilcoxon(value1, value2))\n",
    " \n",
    "# figure related code\n",
    "fig = plt.figure()\n",
    "fig.suptitle('Restaurant selections per minute', fontsize=12)\n",
    "    \n",
    "box_plot_data=[value1,value2]\n",
    "box = plt.boxplot(box_plot_data,patch_artist=True,labels=['Review Watcher','Sample Tool'])\n",
    "\n",
    "colors = ['blue', 'yellow']\n",
    "for patch, color in zip(box['boxes'], colors):\n",
    "    patch.set_facecolor(color)    \n",
    "\n",
    "plt.savefig('Restaurant_selectionsPM.png')\n",
    "plt.show()"
   ]
  },
  {
   "cell_type": "code",
   "execution_count": 23,
   "metadata": {},
   "outputs": [
    {
     "name": "stdout",
     "output_type": "stream",
     "text": [
      "WilcoxonResult(statistic=0.0, pvalue=0.007264382942252025)\n"
     ]
    },
    {
     "name": "stderr",
     "output_type": "stream",
     "text": [
      "C:\\Users\\Bogy\\Anaconda3\\envs\\Envir. Python 3.6\\lib\\site-packages\\scipy\\stats\\morestats.py:2863: UserWarning: Sample size too small for normal approximation.\n",
      "  warnings.warn(\"Sample size too small for normal approximation.\")\n"
     ]
    },
    {
     "data": {
      "image/png": "[encoded data removed]",
      "text/plain": [
       "<Figure size 432x288 with 1 Axes>"
      ]
     },
     "metadata": {
      "needs_background": "light"
     },
     "output_type": "display_data"
    }
   ],
   "source": [
    "value1 = [6,7,5,10,10,9,8,6,18]\n",
    "value2 = [2,3,1,3,3,2,3,0,3]\n",
    "\n",
    "print(stats.wilcoxon(value1, value2))\n",
    " \n",
    "# figure related code\n",
    "fig = plt.figure()\n",
    "fig.suptitle('Numbers', fontsize=12)\n",
    "    \n",
    "box_plot_data=[value1,value2]\n",
    "box = plt.boxplot(box_plot_data,patch_artist=True,labels=['Review Watcher','Sample Tool'])\n",
    "\n",
    "colors = ['blue', 'yellow']\n",
    "for patch, color in zip(box['boxes'], colors):\n",
    "    patch.set_facecolor(color)    \n",
    "\n",
    "plt.savefig('Numbers.png')\n",
    "plt.show()"
   ]
  },
  {
   "cell_type": "code",
   "execution_count": 34,
   "metadata": {},
   "outputs": [
    {
     "name": "stdout",
     "output_type": "stream",
     "text": [
      "WilcoxonResult(statistic=0.0, pvalue=0.007685794055213263)\n"
     ]
    },
    {
     "name": "stderr",
     "output_type": "stream",
     "text": [
      "C:\\Users\\Bogy\\Anaconda3\\envs\\Envir. Python 3.6\\lib\\site-packages\\scipy\\stats\\morestats.py:2863: UserWarning: Sample size too small for normal approximation.\n",
      "  warnings.warn(\"Sample size too small for normal approximation.\")\n"
     ]
    },
    {
     "data": {
      "image/png": "[encoded data removed]",
      "text/plain": [
       "<Figure size 432x288 with 1 Axes>"
      ]
     },
     "metadata": {
      "needs_background": "light"
     },
     "output_type": "display_data"
    }
   ],
   "source": [
    "value1 = [6,7,5,10,10,9,8,6,18]\n",
    "value2 = [2,3,1,3,3,2,3,0,3]\n",
    "value1 = [a/b for a,b in zip(value1,[30,27,28,38,31,33,36,33,44])]\n",
    "value2 = [a/b for a,b in zip(value2,[15,18,18,13,17,9,14,14,11])]\n",
    "\n",
    "print(stats.wilcoxon(value1, value2))\n",
    " \n",
    "# figure related code\n",
    "fig = plt.figure()\n",
    "fig.suptitle('Numbers per minute', fontsize=12)\n",
    "    \n",
    "box_plot_data=[value1,value2]\n",
    "box = plt.boxplot(box_plot_data,patch_artist=True,labels=['Review Watcher','Sample Tool'])\n",
    "\n",
    "colors = ['blue', 'yellow']\n",
    "for patch, color in zip(box['boxes'], colors):\n",
    "    patch.set_facecolor(color)    \n",
    "\n",
    "plt.savefig('NumbersPM.png')\n",
    "plt.show()"
   ]
  },
  {
   "cell_type": "code",
   "execution_count": 6,
   "metadata": {},
   "outputs": [
    {
     "name": "stdout",
     "output_type": "stream",
     "text": [
      "WilcoxonResult(statistic=0.0, pvalue=0.03843393023678171)\n"
     ]
    },
    {
     "name": "stderr",
     "output_type": "stream",
     "text": [
      "C:\\Users\\Bogy\\Anaconda3\\envs\\Envir. Python 3.6\\lib\\site-packages\\scipy\\stats\\morestats.py:2863: UserWarning: Sample size too small for normal approximation.\n",
      "  warnings.warn(\"Sample size too small for normal approximation.\")\n"
     ]
    },
    {
     "data": {
      "image/png": "[encoded data removed]",
      "text/plain": [
       "<Figure size 432x288 with 1 Axes>"
      ]
     },
     "metadata": {
      "needs_background": "light"
     },
     "output_type": "display_data"
    }
   ],
   "source": [
    "value1 = [2,4,2,3,0,0,1,1,1]\n",
    "value2 = [1,1,1,0,0,0,1,1,0]\n",
    "\n",
    "print(stats.wilcoxon(value1, value2))\n",
    " \n",
    "# figure related code\n",
    "fig = plt.figure()\n",
    "fig.suptitle('Unexpected findings', fontsize=12)\n",
    "    \n",
    "box_plot_data=[value1,value2]\n",
    "box = plt.boxplot(box_plot_data,patch_artist=True,labels=['Review Watcher','Sample Tool'])\n",
    "\n",
    "colors = ['blue', 'yellow']\n",
    "for patch, color in zip(box['boxes'], colors):\n",
    "    patch.set_facecolor(color)    \n",
    "\n",
    "plt.savefig('Unexpected_Findings.png')\n",
    "plt.show()"
   ]
  },
  {
   "cell_type": "code",
   "execution_count": 26,
   "metadata": {},
   "outputs": [
    {
     "name": "stdout",
     "output_type": "stream",
     "text": [
      "WilcoxonResult(statistic=7.0, pvalue=0.463071015014588)\n"
     ]
    },
    {
     "name": "stderr",
     "output_type": "stream",
     "text": [
      "C:\\Users\\Bogy\\Anaconda3\\envs\\Envir. Python 3.6\\lib\\site-packages\\scipy\\stats\\morestats.py:2863: UserWarning: Sample size too small for normal approximation.\n",
      "  warnings.warn(\"Sample size too small for normal approximation.\")\n"
     ]
    },
    {
     "data": {
      "image/png": "[encoded data removed]",
      "text/plain": [
       "<Figure size 432x288 with 1 Axes>"
      ]
     },
     "metadata": {
      "needs_background": "light"
     },
     "output_type": "display_data"
    }
   ],
   "source": [
    "value1 = [2,4,2,3,0,0,1,1,1]\n",
    "value2 = [1,1,1,0,0,0,1,1,0]\n",
    "value1 = [a/b for a,b in zip(value1,[30,27,28,38,31,33,36,33,44])]\n",
    "value2 = [a/b for a,b in zip(value2,[15,18,18,13,17,9,14,14,11])]\n",
    "\n",
    "print(stats.wilcoxon(value1, value2))\n",
    " \n",
    "# figure related code\n",
    "fig = plt.figure()\n",
    "fig.suptitle('Unexpected findings per minute', fontsize=12)\n",
    "    \n",
    "box_plot_data=[value1,value2]\n",
    "box = plt.boxplot(box_plot_data,patch_artist=True,labels=['Review Watcher','Sample Tool'])\n",
    "\n",
    "colors = ['blue', 'yellow']\n",
    "for patch, color in zip(box['boxes'], colors):\n",
    "    patch.set_facecolor(color)    \n",
    "\n",
    "plt.savefig('Unexpected_FindingsPM.png')\n",
    "plt.show()"
   ]
  },
  {
   "cell_type": "code",
   "execution_count": 7,
   "metadata": {},
   "outputs": [
    {
     "name": "stdout",
     "output_type": "stream",
     "text": [
      "WilcoxonResult(statistic=0.0, pvalue=0.0157641152996124)\n"
     ]
    },
    {
     "name": "stderr",
     "output_type": "stream",
     "text": [
      "C:\\Users\\Bogy\\Anaconda3\\envs\\Envir. Python 3.6\\lib\\site-packages\\scipy\\stats\\morestats.py:2863: UserWarning: Sample size too small for normal approximation.\n",
      "  warnings.warn(\"Sample size too small for normal approximation.\")\n"
     ]
    },
    {
     "data": {
      "image/png": "[encoded data removed]",
      "text/plain": [
       "<Figure size 432x288 with 1 Axes>"
      ]
     },
     "metadata": {
      "needs_background": "light"
     },
     "output_type": "display_data"
    }
   ],
   "source": [
    "value1 = [3,4,1,1,3,0,2,3,3]\n",
    "value2 = [0,2,1,0,2,0,1,2,1]\n",
    "\n",
    "print(stats.wilcoxon(value1, value2))\n",
    " \n",
    "# figure related code\n",
    "fig = plt.figure()\n",
    "fig.suptitle('Unknown entities', fontsize=12)\n",
    "    \n",
    "box_plot_data=[value1,value2]\n",
    "box = plt.boxplot(box_plot_data,patch_artist=True,labels=['Review Watcher','Sample Tool'])\n",
    "\n",
    "colors = ['blue', 'yellow']\n",
    "for patch, color in zip(box['boxes'], colors):\n",
    "    patch.set_facecolor(color)    \n",
    "\n",
    "plt.savefig('Unknown_Entities.png')\n",
    "plt.show()"
   ]
  },
  {
   "cell_type": "code",
   "execution_count": 27,
   "metadata": {},
   "outputs": [
    {
     "name": "stdout",
     "output_type": "stream",
     "text": [
      "WilcoxonResult(statistic=17.0, pvalue=0.8886378608950078)\n"
     ]
    },
    {
     "name": "stderr",
     "output_type": "stream",
     "text": [
      "C:\\Users\\Bogy\\Anaconda3\\envs\\Envir. Python 3.6\\lib\\site-packages\\scipy\\stats\\morestats.py:2863: UserWarning: Sample size too small for normal approximation.\n",
      "  warnings.warn(\"Sample size too small for normal approximation.\")\n"
     ]
    },
    {
     "data": {
      "image/png": "[encoded data removed]",
      "text/plain": [
       "<Figure size 432x288 with 1 Axes>"
      ]
     },
     "metadata": {
      "needs_background": "light"
     },
     "output_type": "display_data"
    }
   ],
   "source": [
    "value1 = [3,4,1,1,3,0,2,3,3]\n",
    "value2 = [0,2,1,0,2,0,1,2,1]\n",
    "value1 = [a/b for a,b in zip(value1,[30,27,28,38,31,33,36,33,44])]\n",
    "value2 = [a/b for a,b in zip(value2,[15,18,18,13,17,9,14,14,11])]\n",
    "\n",
    "print(stats.wilcoxon(value1, value2))\n",
    " \n",
    "# figure related code\n",
    "fig = plt.figure()\n",
    "fig.suptitle('Unknown entities per minute', fontsize=12)\n",
    "    \n",
    "box_plot_data=[value1,value2]\n",
    "box = plt.boxplot(box_plot_data,patch_artist=True,labels=['Review Watcher','Sample Tool'])\n",
    "\n",
    "colors = ['blue', 'yellow']\n",
    "for patch, color in zip(box['boxes'], colors):\n",
    "    patch.set_facecolor(color)    \n",
    "\n",
    "plt.savefig('Unknown_EntitiesPM.png')\n",
    "plt.show()"
   ]
  },
  {
   "cell_type": "code",
   "execution_count": 8,
   "metadata": {},
   "outputs": [
    {
     "name": "stdout",
     "output_type": "stream",
     "text": [
      "WilcoxonResult(statistic=3.0, pvalue=0.035240223824274504)\n"
     ]
    },
    {
     "name": "stderr",
     "output_type": "stream",
     "text": [
      "C:\\Users\\Bogy\\Anaconda3\\envs\\Envir. Python 3.6\\lib\\site-packages\\scipy\\stats\\morestats.py:2863: UserWarning: Sample size too small for normal approximation.\n",
      "  warnings.warn(\"Sample size too small for normal approximation.\")\n"
     ]
    },
    {
     "data": {
      "image/png": "[encoded data removed]",
      "text/plain": [
       "<Figure size 432x288 with 1 Axes>"
      ]
     },
     "metadata": {
      "needs_background": "light"
     },
     "output_type": "display_data"
    }
   ],
   "source": [
    "value1 = [18,5,15,5,3,12,11,8,12]\n",
    "value2 = [8,7,14,1,2,3,5,8,6]\n",
    " \n",
    "print(stats.wilcoxon(value1, value2))\n",
    " \n",
    "# figure related code\n",
    "fig = plt.figure()\n",
    "fig.suptitle('Reviews read', fontsize=12)\n",
    "    \n",
    "box_plot_data=[value1,value2]\n",
    "box = plt.boxplot(box_plot_data,patch_artist=True,labels=['Review Watcher','Sample Tool'])\n",
    "\n",
    "colors = ['blue', 'yellow']\n",
    "for patch, color in zip(box['boxes'], colors):\n",
    "    patch.set_facecolor(color)    \n",
    "\n",
    "plt.savefig('Reviews_Read.png')\n",
    "plt.show()"
   ]
  },
  {
   "cell_type": "code",
   "execution_count": 28,
   "metadata": {},
   "outputs": [
    {
     "name": "stdout",
     "output_type": "stream",
     "text": [
      "WilcoxonResult(statistic=11.0, pvalue=0.1730709208049953)\n"
     ]
    },
    {
     "name": "stderr",
     "output_type": "stream",
     "text": [
      "C:\\Users\\Bogy\\Anaconda3\\envs\\Envir. Python 3.6\\lib\\site-packages\\scipy\\stats\\morestats.py:2863: UserWarning: Sample size too small for normal approximation.\n",
      "  warnings.warn(\"Sample size too small for normal approximation.\")\n"
     ]
    },
    {
     "data": {
      "image/png": "[encoded data removed]",
      "text/plain": [
       "<Figure size 432x288 with 1 Axes>"
      ]
     },
     "metadata": {
      "needs_background": "light"
     },
     "output_type": "display_data"
    }
   ],
   "source": [
    "value1 = [18,5,15,5,3,12,11,8,12]\n",
    "value2 = [8,7,14,1,2,3,5,8,6]\n",
    "value1 = [a/b for a,b in zip(value1,[30,27,28,38,31,33,36,33,44])]\n",
    "value2 = [a/b for a,b in zip(value2,[15,18,18,13,17,9,14,14,11])]\n",
    " \n",
    "print(stats.wilcoxon(value1, value2))\n",
    " \n",
    "# figure related code\n",
    "fig = plt.figure()\n",
    "fig.suptitle('Reviews read per minute', fontsize=12)\n",
    "    \n",
    "box_plot_data=[value1,value2]\n",
    "box = plt.boxplot(box_plot_data,patch_artist=True,labels=['Review Watcher','Sample Tool'])\n",
    "\n",
    "colors = ['blue', 'yellow']\n",
    "for patch, color in zip(box['boxes'], colors):\n",
    "    patch.set_facecolor(color)    \n",
    "\n",
    "plt.savefig('Reviews_ReadPM.png')\n",
    "plt.show()"
   ]
  },
  {
   "cell_type": "code",
   "execution_count": 30,
   "metadata": {},
   "outputs": [
    {
     "name": "stdout",
     "output_type": "stream",
     "text": [
      "WilcoxonResult(statistic=0.0, pvalue=0.0075792819433897285)\n"
     ]
    },
    {
     "name": "stderr",
     "output_type": "stream",
     "text": [
      "C:\\Users\\Bogy\\Anaconda3\\envs\\Envir. Python 3.6\\lib\\site-packages\\scipy\\stats\\morestats.py:2863: UserWarning: Sample size too small for normal approximation.\n",
      "  warnings.warn(\"Sample size too small for normal approximation.\")\n"
     ]
    },
    {
     "data": {
      "image/png": "[encoded data removed]",
      "text/plain": [
       "<Figure size 432x288 with 1 Axes>"
      ]
     },
     "metadata": {
      "needs_background": "light"
     },
     "output_type": "display_data"
    }
   ],
   "source": [
    "value1 = [11,9,7,18,9,15,17,14,22]\n",
    "value2 = [2,0,3,4,1,2,4,2,0]\n",
    " \n",
    "print(stats.wilcoxon(value1, value2))\n",
    " \n",
    "# figure related code\n",
    "fig = plt.figure()\n",
    "fig.suptitle('Temporal development', fontsize=12)\n",
    "    \n",
    "box_plot_data=[value1,value2]\n",
    "box = plt.boxplot(box_plot_data,patch_artist=True,labels=['Review Watcher','Sample Tool'])\n",
    "\n",
    "colors = ['blue', 'yellow']\n",
    "for patch, color in zip(box['boxes'], colors):\n",
    "    patch.set_facecolor(color)    \n",
    "\n",
    "plt.savefig('Temporal_Development.png')\n",
    "plt.show()"
   ]
  },
  {
   "cell_type": "code",
   "execution_count": 29,
   "metadata": {},
   "outputs": [
    {
     "name": "stdout",
     "output_type": "stream",
     "text": [
      "WilcoxonResult(statistic=0.0, pvalue=0.007685794055213263)\n"
     ]
    },
    {
     "name": "stderr",
     "output_type": "stream",
     "text": [
      "C:\\Users\\Bogy\\Anaconda3\\envs\\Envir. Python 3.6\\lib\\site-packages\\scipy\\stats\\morestats.py:2863: UserWarning: Sample size too small for normal approximation.\n",
      "  warnings.warn(\"Sample size too small for normal approximation.\")\n"
     ]
    },
    {
     "data": {
      "image/png": "[encoded data removed]",
      "text/plain": [
       "<Figure size 432x288 with 1 Axes>"
      ]
     },
     "metadata": {
      "needs_background": "light"
     },
     "output_type": "display_data"
    }
   ],
   "source": [
    "value1 = [11,9,7,18,9,15,17,14,22]\n",
    "value2 = [2,0,3,4,1,2,4,2,0]\n",
    "value1 = [a/b for a,b in zip(value1,[30,27,28,38,31,33,36,33,44])]\n",
    "value2 = [a/b for a,b in zip(value2,[15,18,18,13,17,9,14,14,11])]\n",
    " \n",
    "print(stats.wilcoxon(value1, value2))\n",
    " \n",
    "# figure related code\n",
    "fig = plt.figure()\n",
    "fig.suptitle('Temporal development per minute', fontsize=12)\n",
    "    \n",
    "box_plot_data=[value1,value2]\n",
    "box = plt.boxplot(box_plot_data,patch_artist=True,labels=['Review Watcher','Sample Tool'])\n",
    "\n",
    "colors = ['blue', 'yellow']\n",
    "for patch, color in zip(box['boxes'], colors):\n",
    "    patch.set_facecolor(color)    \n",
    "\n",
    "plt.savefig('Temporal_DevelopmentPM.png')\n",
    "plt.show()"
   ]
  },
  {
   "cell_type": "code",
   "execution_count": 10,
   "metadata": {},
   "outputs": [
    {
     "name": "stdout",
     "output_type": "stream",
     "text": [
      "WilcoxonResult(statistic=2.0, pvalue=0.04105088656045887)\n"
     ]
    },
    {
     "name": "stderr",
     "output_type": "stream",
     "text": [
      "C:\\Users\\Bogy\\Anaconda3\\envs\\Envir. Python 3.6\\lib\\site-packages\\scipy\\stats\\morestats.py:2863: UserWarning: Sample size too small for normal approximation.\n",
      "  warnings.warn(\"Sample size too small for normal approximation.\")\n"
     ]
    },
    {
     "data": {
      "image/png": "[encoded data removed]",
      "text/plain": [
       "<Figure size 432x288 with 1 Axes>"
      ]
     },
     "metadata": {
      "needs_background": "light"
     },
     "output_type": "display_data"
    }
   ],
   "source": [
    "value1 = [3,4,4,13,3,4,3,9,6]\n",
    "value2 = [3,5,3,6,3,2,2,3,2]\n",
    " \n",
    "print(stats.wilcoxon(value1, value2))\n",
    " \n",
    "# figure related code\n",
    "fig = plt.figure()\n",
    "fig.suptitle('Restaurant comparisons', fontsize=12)\n",
    "    \n",
    "box_plot_data=[value1,value2]\n",
    "box = plt.boxplot(box_plot_data,patch_artist=True,labels=['Review Watcher','Sample Tool'])\n",
    "\n",
    "colors = ['blue', 'yellow']\n",
    "for patch, color in zip(box['boxes'], colors):\n",
    "    patch.set_facecolor(color)    \n",
    "\n",
    "plt.savefig('Restaurant_Comparisons.png')\n",
    "plt.show()"
   ]
  },
  {
   "cell_type": "code",
   "execution_count": 31,
   "metadata": {},
   "outputs": [
    {
     "name": "stdout",
     "output_type": "stream",
     "text": [
      "WilcoxonResult(statistic=3.0, pvalue=0.020879263166351643)\n"
     ]
    },
    {
     "name": "stderr",
     "output_type": "stream",
     "text": [
      "C:\\Users\\Bogy\\Anaconda3\\envs\\Envir. Python 3.6\\lib\\site-packages\\scipy\\stats\\morestats.py:2863: UserWarning: Sample size too small for normal approximation.\n",
      "  warnings.warn(\"Sample size too small for normal approximation.\")\n"
     ]
    },
    {
     "data": {
      "image/png": "[encoded data removed]",
      "text/plain": [
       "<Figure size 432x288 with 1 Axes>"
      ]
     },
     "metadata": {
      "needs_background": "light"
     },
     "output_type": "display_data"
    }
   ],
   "source": [
    "value1 = [3,4,4,13,3,4,3,9,6]\n",
    "value2 = [3,5,3,6,3,2,2,3,2]\n",
    "value1 = [a/b for a,b in zip(value1,[30,27,28,38,31,33,36,33,44])]\n",
    "value2 = [a/b for a,b in zip(value2,[15,18,18,13,17,9,14,14,11])]\n",
    " \n",
    "print(stats.wilcoxon(value1, value2))\n",
    " \n",
    "# figure related code\n",
    "fig = plt.figure()\n",
    "fig.suptitle('Restaurant comparisons per minute', fontsize=12)\n",
    "    \n",
    "box_plot_data=[value1,value2]\n",
    "box = plt.boxplot(box_plot_data,patch_artist=True,labels=['Review Watcher','Sample Tool'])\n",
    "\n",
    "colors = ['blue', 'yellow']\n",
    "for patch, color in zip(box['boxes'], colors):\n",
    "    patch.set_facecolor(color)    \n",
    "\n",
    "plt.savefig('Restaurant_ComparisonsPM.png')\n",
    "plt.show()"
   ]
  },
  {
   "cell_type": "code",
   "execution_count": 11,
   "metadata": {},
   "outputs": [
    {
     "name": "stdout",
     "output_type": "stream",
     "text": [
      "WilcoxonResult(statistic=1.0, pvalue=0.010792782163388177)\n"
     ]
    },
    {
     "name": "stderr",
     "output_type": "stream",
     "text": [
      "C:\\Users\\Bogy\\Anaconda3\\envs\\Envir. Python 3.6\\lib\\site-packages\\scipy\\stats\\morestats.py:2863: UserWarning: Sample size too small for normal approximation.\n",
      "  warnings.warn(\"Sample size too small for normal approximation.\")\n"
     ]
    },
    {
     "data": {
      "image/png": "[encoded data removed]",
      "text/plain": [
       "<Figure size 432x288 with 1 Axes>"
      ]
     },
     "metadata": {
      "needs_background": "light"
     },
     "output_type": "display_data"
    }
   ],
   "source": [
    "value1 = [11,16,17,13,35,10,22,11,16]\n",
    "value2 = [12,7,5,6,25,8,5,4,5]\n",
    " \n",
    "print(stats.wilcoxon(value1, value2))\n",
    " \n",
    "# figure related code\n",
    "fig = plt.figure()\n",
    "fig.suptitle('Tools comparisons', fontsize=12)\n",
    "    \n",
    "box_plot_data=[value1,value2]\n",
    "box = plt.boxplot(box_plot_data,patch_artist=True,labels=['Review Watcher','Sample Tool'])\n",
    "\n",
    "colors = ['blue', 'yellow']\n",
    "for patch, color in zip(box['boxes'], colors):\n",
    "    patch.set_facecolor(color)    \n",
    "\n",
    "plt.savefig('Tools_Comparisons.png')\n",
    "plt.show()"
   ]
  },
  {
   "cell_type": "code",
   "execution_count": 32,
   "metadata": {},
   "outputs": [
    {
     "name": "stdout",
     "output_type": "stream",
     "text": [
      "WilcoxonResult(statistic=16.0, pvalue=0.44126813332892967)\n"
     ]
    },
    {
     "name": "stderr",
     "output_type": "stream",
     "text": [
      "C:\\Users\\Bogy\\Anaconda3\\envs\\Envir. Python 3.6\\lib\\site-packages\\scipy\\stats\\morestats.py:2863: UserWarning: Sample size too small for normal approximation.\n",
      "  warnings.warn(\"Sample size too small for normal approximation.\")\n"
     ]
    },
    {
     "data": {
      "image/png": "[encoded data removed]",
      "text/plain": [
       "<Figure size 432x288 with 1 Axes>"
      ]
     },
     "metadata": {
      "needs_background": "light"
     },
     "output_type": "display_data"
    }
   ],
   "source": [
    "value1 = [11,16,17,13,35,10,22,11,16]\n",
    "value2 = [12,7,5,6,25,8,5,4,5]\n",
    "value1 = [a/b for a,b in zip(value1,[30,27,28,38,31,33,36,33,44])]\n",
    "value2 = [a/b for a,b in zip(value2,[15,18,18,13,17,9,14,14,11])]\n",
    " \n",
    "print(stats.wilcoxon(value1, value2))\n",
    " \n",
    "# figure related code\n",
    "fig = plt.figure()\n",
    "fig.suptitle('Tools comparisons per minute', fontsize=12)\n",
    "    \n",
    "box_plot_data=[value1,value2]\n",
    "box = plt.boxplot(box_plot_data,patch_artist=True,labels=['Review Watcher','Sample Tool'])\n",
    "\n",
    "colors = ['blue', 'yellow']\n",
    "for patch, color in zip(box['boxes'], colors):\n",
    "    patch.set_facecolor(color)    \n",
    "\n",
    "plt.savefig('Tools_ComparisonsPM.png')\n",
    "plt.show()"
   ]
  },
  {
   "cell_type": "code",
   "execution_count": 12,
   "metadata": {},
   "outputs": [
    {
     "name": "stdout",
     "output_type": "stream",
     "text": [
      "WilcoxonResult(statistic=2.5, pvalue=0.01771716531701047)\n"
     ]
    },
    {
     "name": "stderr",
     "output_type": "stream",
     "text": [
      "C:\\Users\\Bogy\\Anaconda3\\envs\\Envir. Python 3.6\\lib\\site-packages\\scipy\\stats\\morestats.py:2863: UserWarning: Sample size too small for normal approximation.\n",
      "  warnings.warn(\"Sample size too small for normal approximation.\")\n"
     ]
    },
    {
     "data": {
      "image/png": "[encoded data removed]",
      "text/plain": [
       "<Figure size 432x288 with 1 Axes>"
      ]
     },
     "metadata": {
      "needs_background": "light"
     },
     "output_type": "display_data"
    }
   ],
   "source": [
    "value1 = [14,4,19,43,20,22,32,17,52]\n",
    "value2 = [5,13,16,3,1,4,5,6,2]\n",
    " \n",
    "print(stats.wilcoxon(value1, value2))\n",
    " \n",
    "# figure related code\n",
    "fig = plt.figure()\n",
    "fig.suptitle('Restaurant descriptions', fontsize=12)\n",
    "    \n",
    "box_plot_data=[value1,value2]\n",
    "box = plt.boxplot(box_plot_data,patch_artist=True,labels=['Review Watcher','Sample Tool'])\n",
    "\n",
    "colors = ['blue', 'yellow']\n",
    "for patch, color in zip(box['boxes'], colors):\n",
    "    patch.set_facecolor(color)    \n",
    "\n",
    "plt.savefig('Restaurant_Descriptions.png')\n",
    "plt.show()"
   ]
  },
  {
   "cell_type": "code",
   "execution_count": 33,
   "metadata": {},
   "outputs": [
    {
     "name": "stdout",
     "output_type": "stream",
     "text": [
      "WilcoxonResult(statistic=9.0, pvalue=0.10974463874701328)\n"
     ]
    },
    {
     "name": "stderr",
     "output_type": "stream",
     "text": [
      "C:\\Users\\Bogy\\Anaconda3\\envs\\Envir. Python 3.6\\lib\\site-packages\\scipy\\stats\\morestats.py:2863: UserWarning: Sample size too small for normal approximation.\n",
      "  warnings.warn(\"Sample size too small for normal approximation.\")\n"
     ]
    },
    {
     "data": {
      "image/png": "[encoded data removed]",
      "text/plain": [
       "<Figure size 432x288 with 1 Axes>"
      ]
     },
     "metadata": {
      "needs_background": "light"
     },
     "output_type": "display_data"
    }
   ],
   "source": [
    "value1 = [14,4,19,43,20,22,32,17,52]\n",
    "value2 = [5,13,16,3,1,4,5,6,2]\n",
    "value1 = [a/b for a,b in zip(value1,[30,27,28,38,31,33,36,33,44])]\n",
    "value2 = [a/b for a,b in zip(value2,[15,18,18,13,17,9,14,14,11])]\n",
    " \n",
    "print(stats.wilcoxon(value1, value2))\n",
    " \n",
    "# figure related code\n",
    "fig = plt.figure()\n",
    "fig.suptitle('Restaurant descriptions per minute', fontsize=12)\n",
    "    \n",
    "box_plot_data=[value1,value2]\n",
    "box = plt.boxplot(box_plot_data,patch_artist=True,labels=['Review Watcher','Sample Tool'])\n",
    "\n",
    "colors = ['blue', 'yellow']\n",
    "for patch, color in zip(box['boxes'], colors):\n",
    "    patch.set_facecolor(color)    \n",
    "\n",
    "plt.savefig('Restaurant_DescriptionsPM.png')\n",
    "plt.show()"
   ]
  },
  {
   "cell_type": "code",
   "execution_count": 13,
   "metadata": {},
   "outputs": [
    {
     "name": "stdout",
     "output_type": "stream",
     "text": [
      "WilcoxonResult(statistic=0.0, pvalue=0.007685794055213263)\n"
     ]
    },
    {
     "name": "stderr",
     "output_type": "stream",
     "text": [
      "C:\\Users\\Bogy\\Anaconda3\\envs\\Envir. Python 3.6\\lib\\site-packages\\scipy\\stats\\morestats.py:2863: UserWarning: Sample size too small for normal approximation.\n",
      "  warnings.warn(\"Sample size too small for normal approximation.\")\n"
     ]
    },
    {
     "data": {
      "image/png": "[encoded data removed]",
      "text/plain": [
       "<Figure size 432x288 with 1 Axes>"
      ]
     },
     "metadata": {
      "needs_background": "light"
     },
     "output_type": "display_data"
    }
   ],
   "source": [
    "value1 = [30,27,28,38,31,33,36,33,44]\n",
    "value2 = [15,18,18,13,17,9,14,14,11]\n",
    " \n",
    "print(stats.wilcoxon(value1, value2))\n",
    " \n",
    "# figure related code\n",
    "fig = plt.figure()\n",
    "fig.suptitle('Time spent in minutes', fontsize=12)\n",
    "    \n",
    "box_plot_data=[value1,value2]\n",
    "box = plt.boxplot(box_plot_data,patch_artist=True,labels=['Review Watcher','Sample Tool'])\n",
    "\n",
    "colors = ['blue', 'yellow']\n",
    "for patch, color in zip(box['boxes'], colors):\n",
    "    patch.set_facecolor(color)    \n",
    "\n",
    "plt.savefig('Time_Spent_in_Minutes.png')\n",
    "plt.show()"
   ]
  },
  {
   "cell_type": "code",
   "execution_count": 34,
   "metadata": {},
   "outputs": [
    {
     "data": {
      "image/png": "[encoded data removed]",
      "text/plain": [
       "<Figure size 432x288 with 1 Axes>"
      ]
     },
     "metadata": {
      "needs_background": "light"
     },
     "output_type": "display_data"
    }
   ],
   "source": [
    "value0 = [0,0,0,0,0,0,0,0,0]\n",
    "value1 = [3,4,0,0,3,3,3,2,3]\n",
    "value2 = [3,4,2,1,3,4,1,4,4]\n",
    "value3 = [4,4,1,1,3,4,0,3,3]\n",
    "value4 = [4,4,3,2,1,4,4,4,4]\n",
    "value5 = [3,4,4,1,4,4,4,4,3]\n",
    "value6 = [4,4,2,2,4,4,3,3,4]\n",
    "value7 = [4,4,1,1,3,3,1,4,4]\n",
    "value8 = [4,3,2,1,3,4,1,4,4]\n",
    "value9 = [3,4,1,1,2,4,2,4,4]\n",
    "value10 = [4,4,3,2,4,4,4,4,4]\n",
    "\n",
    "\n",
    "df = pd.DataFrame(data=[value1, value2, value3, value4, value5, value6, value7, value8, value9, value10])\n",
    "df = df*2.5\n",
    "\n",
    "for i in range(len(value0)):\n",
    "    value0[i] = float(df.iloc[:,[i]].sum())\n",
    "    \n",
    "value1 = [i * 25 for i in value1]\n",
    "value2 = [i * 25 for i in value2]\n",
    "value3 = [i * 25 for i in value3]\n",
    "value4 = [i * 25 for i in value4]\n",
    "value5 = [i * 25 for i in value5]\n",
    "value6 = [i * 25 for i in value6]\n",
    "value7 = [i * 25 for i in value7]\n",
    "value8 = [i * 25 for i in value8]\n",
    "value9 = [i * 25 for i in value9]\n",
    "value10 = [i * 25 for i in value10]\n",
    "\n",
    "# figure related code\n",
    "fig = plt.figure()\n",
    "fig.suptitle('Questionnaire', fontsize=12)\n",
    "    \n",
    "box_plot_data=[value0,value1,value2,value3,value4,value5,value6,value7,value8,value9,value10]\n",
    "box = plt.boxplot(box_plot_data,patch_artist=True,labels=['All','1','2','3','4','5','6','7','8','9','10'])\n",
    "\n",
    "colors = ['blue', 'yellow', 'brown', 'green', 'purple', 'pink', 'maroon', 'magenta', 'orange', 'grey']\n",
    "for patch, color in zip(box['boxes'], colors):\n",
    "    patch.set_facecolor(color)    \n",
    "\n",
    "#plt.savefig('Questionnaire.png')\n",
    "plt.show()"
   ]
  },
  {
   "cell_type": "code",
   "execution_count": 6,
   "metadata": {},
   "outputs": [
    {
     "data": {
      "text/plain": [
       "75"
      ]
     },
     "execution_count": 6,
     "metadata": {},
     "output_type": "execute_result"
    }
   ],
   "source": [
    "import statistics \n",
    "statistics.median([3,4,1,1,2,4,2,4,4])*25"
   ]
  },
  {
   "cell_type": "code",
   "execution_count": 48,
   "metadata": {},
   "outputs": [
    {
     "name": "stdout",
     "output_type": "stream",
     "text": [
      "75.0\n",
      "58.333333333333336\n",
      "72.22222222222223\n",
      "63.888888888888886\n",
      "83.33333333333333\n",
      "86.11111111111111\n",
      "83.33333333333333\n",
      "69.44444444444444\n",
      "72.22222222222223\n",
      "69.44444444444444\n",
      "91.66666666666667\n"
     ]
    }
   ],
   "source": [
    "sum1 = sum(value0)/9\n",
    "print(sum1)\n",
    "\n",
    "sum1 = sum(value1)/9\n",
    "print(sum1)\n",
    "\n",
    "sum1 = sum(value2)/9\n",
    "print(sum1)\n",
    "\n",
    "sum1 = sum(value3)/9\n",
    "print(sum1)\n",
    "\n",
    "sum1 = sum(value4)/9\n",
    "print(sum1)\n",
    "\n",
    "sum1 = sum(value5)/9\n",
    "print(sum1)\n",
    "\n",
    "sum1 = sum(value6)/9\n",
    "print(sum1)\n",
    "\n",
    "sum1 = sum(value7)/9\n",
    "print(sum1)\n",
    "\n",
    "sum1 = sum(value8)/9\n",
    "print(sum1)\n",
    "\n",
    "sum1 = sum(value9)/9\n",
    "print(sum1)\n",
    "\n",
    "sum1 = sum(value10)/9\n",
    "print(sum1)"
   ]
  },
  {
   "cell_type": "code",
   "execution_count": 6,
   "metadata": {},
   "outputs": [
    {
     "name": "stdout",
     "output_type": "stream",
     "text": [
      "Just reviews in: 0.6298242131868999\n"
     ]
    }
   ],
   "source": [
    "t0 = time.time()\n",
    "client = MongoClient()\n",
    "db = client.test_database\n",
    "collection = db.test_collection\n",
    "\n",
    "reviews_plainMongo = db.reviews_plain\n",
    "reviewsPlain = pd.DataFrame(list(reviews_plainMongo.find({})))\n",
    "del reviewsPlain[\"_id\"]\n",
    "reviewsPlain = reviewsPlain.astype({'stars': np.int8})\n",
    "t1 = time.time()\n",
    "print(\"Just reviews in nimutes: \" + str((t1-t0)/60))"
   ]
  },
  {
   "cell_type": "code",
   "execution_count": 29,
   "metadata": {},
   "outputs": [
    {
     "data": {
      "text/html": [
       "<div>\n",
       "<style scoped>\n",
       "    .dataframe tbody tr th:only-of-type {\n",
       "        vertical-align: middle;\n",
       "    }\n",
       "\n",
       "    .dataframe tbody tr th {\n",
       "        vertical-align: top;\n",
       "    }\n",
       "\n",
       "    .dataframe thead th {\n",
       "        text-align: right;\n",
       "    }\n",
       "</style>\n",
       "<table border=\"1\" class=\"dataframe\">\n",
       "  <thead>\n",
       "    <tr style=\"text-align: right;\">\n",
       "      <th></th>\n",
       "      <th>stars</th>\n",
       "      <th>date</th>\n",
       "      <th>text</th>\n",
       "      <th>new_name</th>\n",
       "    </tr>\n",
       "  </thead>\n",
       "  <tbody>\n",
       "    <tr>\n",
       "      <td>0</td>\n",
       "      <td>5</td>\n",
       "      <td>2017-08-02</td>\n",
       "      <td>Dont miss the peppercorn steak . The peppercor...</td>\n",
       "      <td>\"Mon Ami Gabi\" - 89109</td>\n",
       "    </tr>\n",
       "    <tr>\n",
       "      <td>1</td>\n",
       "      <td>3</td>\n",
       "      <td>2013-03-16</td>\n",
       "      <td>This is a great place to come during the summe...</td>\n",
       "      <td>\"Mon Ami Gabi\" - 89109</td>\n",
       "    </tr>\n",
       "    <tr>\n",
       "      <td>2</td>\n",
       "      <td>4</td>\n",
       "      <td>2013-01-04</td>\n",
       "      <td>Mon Ami Gabi is practically a landmark. In fac...</td>\n",
       "      <td>\"Mon Ami Gabi\" - 89109</td>\n",
       "    </tr>\n",
       "    <tr>\n",
       "      <td>3</td>\n",
       "      <td>4</td>\n",
       "      <td>2010-07-02</td>\n",
       "      <td>Having done Vegas (at least once) every year f...</td>\n",
       "      <td>\"Mon Ami Gabi\" - 89109</td>\n",
       "    </tr>\n",
       "    <tr>\n",
       "      <td>4</td>\n",
       "      <td>5</td>\n",
       "      <td>2017-08-04</td>\n",
       "      <td>To start with, I'm French and I'm a Vegas loca...</td>\n",
       "      <td>\"Mon Ami Gabi\" - 89109</td>\n",
       "    </tr>\n",
       "    <tr>\n",
       "      <td>...</td>\n",
       "      <td>...</td>\n",
       "      <td>...</td>\n",
       "      <td>...</td>\n",
       "      <td>...</td>\n",
       "    </tr>\n",
       "    <tr>\n",
       "      <td>3346019</td>\n",
       "      <td>1</td>\n",
       "      <td>2017-08-18</td>\n",
       "      <td>Bar is absolute trash. Came in spend over 150 ...</td>\n",
       "      <td>\"Timbers Rancho\" - 89130</td>\n",
       "    </tr>\n",
       "    <tr>\n",
       "      <td>3346020</td>\n",
       "      <td>4</td>\n",
       "      <td>2017-10-13</td>\n",
       "      <td>Nice place! I am a non-smoker and although a f...</td>\n",
       "      <td>\"Timbers Rancho\" - 89130</td>\n",
       "    </tr>\n",
       "    <tr>\n",
       "      <td>3346021</td>\n",
       "      <td>5</td>\n",
       "      <td>2009-05-22</td>\n",
       "      <td>Are you kidding me?? 1 star? \\r\\r\\r\\n\\r\\r\\r\\nO...</td>\n",
       "      <td>\"Budweiser Racing Track Bar &amp; Grill\" - 89119</td>\n",
       "    </tr>\n",
       "    <tr>\n",
       "      <td>3346022</td>\n",
       "      <td>2</td>\n",
       "      <td>2013-05-14</td>\n",
       "      <td>$14.35 for a beer and a coke. \\r\\r\\r\\n\\r\\r\\r\\n...</td>\n",
       "      <td>\"Budweiser Racing Track Bar &amp; Grill\" - 89119</td>\n",
       "    </tr>\n",
       "    <tr>\n",
       "      <td>3346023</td>\n",
       "      <td>2</td>\n",
       "      <td>2015-12-23</td>\n",
       "      <td>I've been to this Mcd several times being clos...</td>\n",
       "      <td>\"McDonald's\" - M4C 1H9</td>\n",
       "    </tr>\n",
       "  </tbody>\n",
       "</table>\n",
       "<p>3346024 rows × 4 columns</p>\n",
       "</div>"
      ],
      "text/plain": [
       "         stars        date                                               text  \\\n",
       "0            5  2017-08-02  Dont miss the peppercorn steak . The peppercor...   \n",
       "1            3  2013-03-16  This is a great place to come during the summe...   \n",
       "2            4  2013-01-04  Mon Ami Gabi is practically a landmark. In fac...   \n",
       "3            4  2010-07-02  Having done Vegas (at least once) every year f...   \n",
       "4            5  2017-08-04  To start with, I'm French and I'm a Vegas loca...   \n",
       "...        ...         ...                                                ...   \n",
       "3346019      1  2017-08-18  Bar is absolute trash. Came in spend over 150 ...   \n",
       "3346020      4  2017-10-13  Nice place! I am a non-smoker and although a f...   \n",
       "3346021      5  2009-05-22  Are you kidding me?? 1 star? \\r\\r\\r\\n\\r\\r\\r\\nO...   \n",
       "3346022      2  2013-05-14  $14.35 for a beer and a coke. \\r\\r\\r\\n\\r\\r\\r\\n...   \n",
       "3346023      2  2015-12-23  I've been to this Mcd several times being clos...   \n",
       "\n",
       "                                             new_name  \n",
       "0                              \"Mon Ami Gabi\" - 89109  \n",
       "1                              \"Mon Ami Gabi\" - 89109  \n",
       "2                              \"Mon Ami Gabi\" - 89109  \n",
       "3                              \"Mon Ami Gabi\" - 89109  \n",
       "4                              \"Mon Ami Gabi\" - 89109  \n",
       "...                                               ...  \n",
       "3346019                      \"Timbers Rancho\" - 89130  \n",
       "3346020                      \"Timbers Rancho\" - 89130  \n",
       "3346021  \"Budweiser Racing Track Bar & Grill\" - 89119  \n",
       "3346022  \"Budweiser Racing Track Bar & Grill\" - 89119  \n",
       "3346023                        \"McDonald's\" - M4C 1H9  \n",
       "\n",
       "[3346024 rows x 4 columns]"
      ]
     },
     "execution_count": 29,
     "metadata": {},
     "output_type": "execute_result"
    }
   ],
   "source": [
    "reviewsPlain"
   ]
  },
  {
   "cell_type": "code",
   "execution_count": 54,
   "metadata": {},
   "outputs": [
    {
     "name": "stdout",
     "output_type": "stream",
     "text": [
      "180 ms ± 3.73 ms per loop (mean ± std. dev. of 5 runs, 10 loops each)\n"
     ]
    }
   ],
   "source": [
    "%timeit -n 10 -r 5 fil2.main(reviewsPlain, \"\", '\"Mon Ami Gabi\" - 89109', '1', '2016-01-01', '2016-01-01')"
   ]
  },
  {
   "cell_type": "code",
   "execution_count": 55,
   "metadata": {},
   "outputs": [
    {
     "name": "stdout",
     "output_type": "stream",
     "text": [
      "183 ms ± 2.97 ms per loop (mean ± std. dev. of 5 runs, 10 loops each)\n"
     ]
    }
   ],
   "source": [
    "%timeit -n 10 -r 5 fil2.main(reviewsPlain, \"\", '\"Mon Ami Gabi\" - 89109', '1', '', '')"
   ]
  },
  {
   "cell_type": "code",
   "execution_count": 56,
   "metadata": {},
   "outputs": [
    {
     "name": "stdout",
     "output_type": "stream",
     "text": [
      "185 ms ± 6.21 ms per loop (mean ± std. dev. of 5 runs, 10 loops each)\n"
     ]
    }
   ],
   "source": [
    "%timeit -n 10 -r 5 fil2.main(reviewsPlain, \"\", '\"Mon Ami Gabi\" - 89109', '', '', '')"
   ]
  },
  {
   "cell_type": "code",
   "execution_count": 57,
   "metadata": {},
   "outputs": [
    {
     "name": "stdout",
     "output_type": "stream",
     "text": [
      "1.73 s ± 44.9 ms per loop (mean ± std. dev. of 5 runs, 10 loops each)\n"
     ]
    }
   ],
   "source": [
    "%timeit -n 10 -r 5 list(reviews_plainMongo.find({\"stars\": 1 , \"new_name\":'\"Mon Ami Gabi\" - 89109', \"date\":\"2016-01-01\"}))"
   ]
  },
  {
   "cell_type": "code",
   "execution_count": 58,
   "metadata": {},
   "outputs": [
    {
     "name": "stdout",
     "output_type": "stream",
     "text": [
      "1.81 s ± 26.3 ms per loop (mean ± std. dev. of 5 runs, 10 loops each)\n"
     ]
    }
   ],
   "source": [
    "%timeit -n 10 -r 5 list(reviews_plainMongo.find({\"stars\": 1 , \"new_name\":'\"Mon Ami Gabi\" - 89109'}))"
   ]
  },
  {
   "cell_type": "code",
   "execution_count": 59,
   "metadata": {},
   "outputs": [
    {
     "name": "stdout",
     "output_type": "stream",
     "text": [
      "1.84 s ± 24.3 ms per loop (mean ± std. dev. of 5 runs, 10 loops each)\n"
     ]
    }
   ],
   "source": [
    "%timeit -n 10 -r 5 list(reviews_plainMongo.find({\"new_name\":'\"Mon Ami Gabi\" - 89109'}))"
   ]
  },
  {
   "cell_type": "code",
   "execution_count": 41,
   "metadata": {},
   "outputs": [
    {
     "data": {
      "image/png": "[encoded data removed]",
      "text/plain": [
       "<Figure size 432x288 with 1 Axes>"
      ]
     },
     "metadata": {},
     "output_type": "display_data"
    }
   ],
   "source": [
    "import seaborn as sns; sns.set()\n",
    "fmri = sns.load_dataset(\"fmri\")\n",
    "\n",
    "confidenceIntervals = [10, 30, 50, 70, 90]\n",
    "\n",
    "colorPalette = sns.color_palette(\"ch:2.5,-.2,dark=.4\", n_colors=len(confidenceIntervals))[::-1]\n",
    "\n",
    "for jj, ii in enumerate(confidenceIntervals):\n",
    "    ax = sns.lineplot(x=\"timepoint\", y=\"signal\", data=fmri, ci=ii, label=str(ii), \n",
    "                      color=colorPalette[jj])\n",
    "\n",
    "ax.legend(fancybox=True, framealpha=1, shadow=True, borderpad=1)\n",
    "plt.savefig('Confidence.png')"
   ]
  },
  {
   "cell_type": "code",
   "execution_count": 8,
   "metadata": {},
   "outputs": [
    {
     "data": {
      "image/png": "[encoded data removed]",
      "text/plain": [
       "<Figure size 432x288 with 1 Axes>"
      ]
     },
     "metadata": {
      "needs_background": "light"
     },
     "output_type": "display_data"
    }
   ],
   "source": [
    "plt.plot([10, 100, 1000, 2500, 5000, 7000], [0.75, 0.79, 0.9, 1.1, 2.62, 6.15], 'ro')\n",
    "plt.plot([100, 1000, 2500, 5000, 7000], [0.76, 0.88, 1.01, 1.22, 1.76], 'bo')\n",
    "plt.plot([1000, 2500, 5000, 7000], [0.80, 0.80, 0.81, 0.86], 'go')\n",
    "#plt.plot([1, 10, 1000, 10000, 50000, 100000, 107401], [0.000996, 0.001990795, 0.074908018, 0.687192678, 3.57846379, 6.846399, 8.319787], 'go')\n",
    "plt.ylabel('Time in seconds')\n",
    "plt.xlabel('Number of items')\n",
    "#plt.suptitle('Reds are tokens and blues are lemmas')\n",
    "plt.savefig('Time_to_calculate_TF_IDF.png')\n",
    "plt.show()"
   ]
  },
  {
   "cell_type": "code",
   "execution_count": 11,
   "metadata": {},
   "outputs": [
    {
     "data": {
      "image/png": "[encoded data removed]",
      "text/plain": [
       "<Figure size 432x288 with 1 Axes>"
      ]
     },
     "metadata": {
      "needs_background": "light"
     },
     "output_type": "display_data"
    }
   ],
   "source": [
    "plt.plot([10, 100, 1000, 2500, 5000, 7000], [0.73, 0.75, 0.76, 0.762, 0.77, 0.78], 'ro')\n",
    "#plt.plot([100, 1000, 2500, 5000, 7000], [0.76, 0.88, 1.01, 1.22, 1.76], 'bo')\n",
    "#plt.plot([1000, 2500, 5000, 7000], [0.80, 0.80, 0.81, 0.86], 'go')\n",
    "#plt.plot([1, 10, 1000, 10000, 50000, 100000, 107401], [0.000996, 0.001990795, 0.074908018, 0.687192678, 3.57846379, 6.846399, 8.319787], 'go')\n",
    "plt.ylabel('Time in seconds')\n",
    "plt.xlabel('Number of items')\n",
    "#plt.suptitle('Reds are tokens and blues are lemmas')\n",
    "plt.savefig('Time_to_calculate_top_words.png')\n",
    "plt.show()"
   ]
  },
  {
   "cell_type": "code",
   "execution_count": null,
   "metadata": {},
   "outputs": [],
   "source": []
  }
 ],
 "metadata": {
  "kernelspec": {
   "display_name": "Python 3",
   "language": "python",
   "name": "python3"
  },
  "language_info": {
   "codemirror_mode": {
    "name": "ipython",
    "version": 3
   },
   "file_extension": ".py",
   "mimetype": "text/x-python",
   "name": "python",
   "nbconvert_exporter": "python",
   "pygments_lexer": "ipython3",
   "version": "3.6.9"
  }
 },
 "nbformat": 4,
 "nbformat_minor": 2
}
